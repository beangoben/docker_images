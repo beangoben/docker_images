{
 "cells": [
  {
   "cell_type": "markdown",
   "metadata": {
    "toc": "true"
   },
   "source": [
    "# Table of Contents\n",
    " <p><div class=\"lev1 toc-item\"><a href=\"#H1\" data-toc-modified-id=\"H1-1\"><span class=\"toc-item-num\">1&nbsp;&nbsp;</span>H1</a></div><div class=\"lev2 toc-item\"><a href=\"#H2\" data-toc-modified-id=\"H2-11\"><span class=\"toc-item-num\">1.1&nbsp;&nbsp;</span>H2</a></div><div class=\"lev3 toc-item\"><a href=\"#H3\" data-toc-modified-id=\"H3-111\"><span class=\"toc-item-num\">1.1.1&nbsp;&nbsp;</span>H3</a></div><div class=\"lev4 toc-item\"><a href=\"#H4\" data-toc-modified-id=\"H4-1111\"><span class=\"toc-item-num\">1.1.1.1&nbsp;&nbsp;</span>H4</a></div>"
   ]
  },
  {
   "cell_type": "markdown",
   "metadata": {},
   "source": [
    "# H1\n",
    "## H2\n",
    "### H3\n",
    "#### H4\n",
    "\n",
    "* 1 \n",
    "* 2\n",
    "* 3\n",
    "\n",
    "blah blah"
   ]
  },
  {
   "cell_type": "code",
   "execution_count": 10,
   "metadata": {
    "collapsed": false
   },
   "outputs": [
    {
     "data": {
      "text/html": [
       "<div>\n",
       "<table border=\"1\" class=\"dataframe\">\n",
       "  <thead>\n",
       "    <tr style=\"text-align: right;\">\n",
       "      <th></th>\n",
       "      <th>A</th>\n",
       "      <th>B</th>\n",
       "      <th>C</th>\n",
       "    </tr>\n",
       "  </thead>\n",
       "  <tbody>\n",
       "    <tr>\n",
       "      <th>0</th>\n",
       "      <td>0</td>\n",
       "      <td>0</td>\n",
       "      <td>0</td>\n",
       "    </tr>\n",
       "    <tr>\n",
       "      <th>1</th>\n",
       "      <td>0</td>\n",
       "      <td>0</td>\n",
       "      <td>0</td>\n",
       "    </tr>\n",
       "    <tr>\n",
       "      <th>2</th>\n",
       "      <td>0</td>\n",
       "      <td>0</td>\n",
       "      <td>0</td>\n",
       "    </tr>\n",
       "    <tr>\n",
       "      <th>3</th>\n",
       "      <td>0</td>\n",
       "      <td>0</td>\n",
       "      <td>0</td>\n",
       "    </tr>\n",
       "    <tr>\n",
       "      <th>4</th>\n",
       "      <td>0</td>\n",
       "      <td>0</td>\n",
       "      <td>0</td>\n",
       "    </tr>\n",
       "  </tbody>\n",
       "</table>\n",
       "</div>"
      ],
      "text/plain": [
       "   A  B  C\n",
       "0  0  0  0\n",
       "1  0  0  0\n",
       "2  0  0  0\n",
       "3  0  0  0\n",
       "4  0  0  0"
      ]
     },
     "execution_count": 10,
     "metadata": {},
     "output_type": "execute_result"
    }
   ],
   "source": [
    "import pandas as pd\n",
    "columns = ['A','B', 'C']\n",
    "df = pd.DataFrame(index=range(10), columns=columns)\n",
    "df = df.fillna(0)\n",
    "df.head()"
   ]
  },
  {
   "cell_type": "code",
   "execution_count": 1,
   "metadata": {
    "collapsed": true
   },
   "outputs": [],
   "source": [
    "def factorial(n):return reduce(lambda x,y:x*y,[1]+range(1,n+1))\n",
    "\n",
    "def factorial(n):\n",
    "    if n == 0:\n",
    "        return 1\n",
    "    else:\n",
    "        return n * factorial(n-1)"
   ]
  },
  {
   "cell_type": "code",
   "execution_count": 3,
   "metadata": {
    "collapsed": false
   },
   "outputs": [
    {
     "name": "stdout",
     "output_type": "stream",
     "text": [
      "..\n"
     ]
    }
   ],
   "source": [
    "print(\"..\")"
   ]
  },
  {
   "cell_type": "code",
   "execution_count": 7,
   "metadata": {
    "ExecuteTime": {
     "end_time": "2016-11-07T10:02:36.609067",
     "start_time": "2016-11-07T10:02:36.297348"
    },
    "collapsed": false
   },
   "outputs": [
    {
     "name": "stdout",
     "output_type": "stream",
     "text": [
      "../.jupyter/jupyter_notebook_config.py\t../.jupyter/migrated\r\n",
      "\r\n",
      "../.jupyter/custom:\r\n",
      "custom.css  custom.js\r\n",
      "\r\n",
      "../.jupyter/nbconfig:\r\n",
      "nbextensions_default.json  notebook.json\r\n"
     ]
    }
   ],
   "source": [
    "!ls ../.jupyter/*"
   ]
  },
  {
   "cell_type": "code",
   "execution_count": 8,
   "metadata": {
    "ExecuteTime": {
     "end_time": "2016-11-07T10:02:59.539617",
     "start_time": "2016-11-07T10:02:59.179444"
    },
    "collapsed": false
   },
   "outputs": [
    {
     "name": "stdout",
     "output_type": "stream",
     "text": [
      "{\r\n",
      "  \"load_extensions\": {\r\n",
      "    \"jupyter_themes/theme_selector\": true,\r\n",
      "    \"limit_output/main\": true,\r\n",
      "    \"code_prettify/code_prettify\": true,\r\n",
      "    \"table_beautifier/main\": true,\r\n",
      "    \"code_font_size/code_font_size\": true,\r\n",
      "    \"toc2/main\": true,\r\n",
      "    \"toggle_all_line_numbers/main\": true,\r\n",
      "    \"execute_time/ExecuteTime\": true,\r\n",
      "    \"ruler/main\": true\r\n",
      "  },\r\n",
      "  \"toc2\": {\r\n",
      "    \"toc_cell\": true\r\n",
      "  }\r\n",
      "}"
     ]
    }
   ],
   "source": [
    "!cat ../.jupyter/nbconfig/notebook.json"
   ]
  },
  {
   "cell_type": "code",
   "execution_count": null,
   "metadata": {
    "collapsed": true
   },
   "outputs": [],
   "source": []
  }
 ],
 "metadata": {
  "kernelspec": {
   "display_name": "Python 3",
   "language": "python",
   "name": "python3"
  },
  "language_info": {
   "codemirror_mode": {
    "name": "ipython",
    "version": 3
   },
   "file_extension": ".py",
   "mimetype": "text/x-python",
   "name": "python",
   "nbconvert_exporter": "python",
   "pygments_lexer": "ipython3",
   "version": "3.5.2"
  },
  "toc": {
   "nav_menu": {
    "height": "84px",
    "width": "252px"
   },
   "navigate_menu": true,
   "number_sections": true,
   "sideBar": true,
   "threshold": 4,
   "toc_cell": true,
   "toc_section_display": "block",
   "toc_window_display": false
  }
 },
 "nbformat": 4,
 "nbformat_minor": 0
}
