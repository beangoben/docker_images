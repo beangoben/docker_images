{
 "cells": [
  {
   "cell_type": "markdown",
   "metadata": {
    "deletable": true,
    "editable": true,
    "toc": "true"
   },
   "source": [
    "# Table of Contents\n",
    " <p><div class=\"lev1 toc-item\"><a href=\"#H1\" data-toc-modified-id=\"H1-1\"><span class=\"toc-item-num\">1&nbsp;&nbsp;</span>H1</a></div><div class=\"lev2 toc-item\"><a href=\"#H2\" data-toc-modified-id=\"H2-11\"><span class=\"toc-item-num\">1.1&nbsp;&nbsp;</span>H2</a></div><div class=\"lev3 toc-item\"><a href=\"#H3\" data-toc-modified-id=\"H3-111\"><span class=\"toc-item-num\">1.1.1&nbsp;&nbsp;</span>H3</a></div><div class=\"lev4 toc-item\"><a href=\"#H4\" data-toc-modified-id=\"H4-1111\"><span class=\"toc-item-num\">1.1.1.1&nbsp;&nbsp;</span>H4</a></div>"
   ]
  },
  {
   "cell_type": "markdown",
   "metadata": {
    "deletable": true,
    "editable": true
   },
   "source": [
    "# H1\n",
    "## H2\n",
    "### H3\n",
    "#### H4\n",
    "\n",
    "* 1 \n",
    "* 2\n",
    "* 3\n",
    "\n",
    "blah blah"
   ]
  },
  {
   "cell_type": "code",
   "execution_count": 1,
   "metadata": {
    "ExecuteTime": {
     "end_time": "2017-03-12T00:13:23.032948Z",
     "start_time": "2017-03-12T00:13:22.166739Z"
    },
    "collapsed": false,
    "deletable": true,
    "editable": true
   },
   "outputs": [
    {
     "data": {
      "text/html": [
       "<div>\n",
       "<table border=\"1\" class=\"dataframe\">\n",
       "  <thead>\n",
       "    <tr style=\"text-align: right;\">\n",
       "      <th></th>\n",
       "      <th>A</th>\n",
       "      <th>B</th>\n",
       "      <th>C</th>\n",
       "    </tr>\n",
       "  </thead>\n",
       "  <tbody>\n",
       "    <tr>\n",
       "      <th>0</th>\n",
       "      <td>0</td>\n",
       "      <td>0</td>\n",
       "      <td>0</td>\n",
       "    </tr>\n",
       "    <tr>\n",
       "      <th>1</th>\n",
       "      <td>0</td>\n",
       "      <td>0</td>\n",
       "      <td>0</td>\n",
       "    </tr>\n",
       "    <tr>\n",
       "      <th>2</th>\n",
       "      <td>0</td>\n",
       "      <td>0</td>\n",
       "      <td>0</td>\n",
       "    </tr>\n",
       "    <tr>\n",
       "      <th>3</th>\n",
       "      <td>0</td>\n",
       "      <td>0</td>\n",
       "      <td>0</td>\n",
       "    </tr>\n",
       "    <tr>\n",
       "      <th>4</th>\n",
       "      <td>0</td>\n",
       "      <td>0</td>\n",
       "      <td>0</td>\n",
       "    </tr>\n",
       "  </tbody>\n",
       "</table>\n",
       "</div>"
      ],
      "text/plain": [
       "   A  B  C\n",
       "0  0  0  0\n",
       "1  0  0  0\n",
       "2  0  0  0\n",
       "3  0  0  0\n",
       "4  0  0  0"
      ]
     },
     "execution_count": 1,
     "metadata": {},
     "output_type": "execute_result"
    }
   ],
   "source": [
    "import pandas as pd\n",
    "columns = ['A','B', 'C']\n",
    "df = pd.DataFrame(index=range(10), columns=columns)\n",
    "df = df.fillna(0)\n",
    "df.head()"
   ]
  },
  {
   "cell_type": "code",
   "execution_count": 6,
   "metadata": {
    "ExecuteTime": {
     "end_time": "2017-03-12T00:15:43.118499Z",
     "start_time": "2017-03-12T00:15:43.114356Z"
    },
    "collapsed": true,
    "deletable": true,
    "editable": true
   },
   "outputs": [],
   "source": [
    "def factorial(n): return reduce(lambda x, y: x * y, [1] + range(1, n + 1))\n",
    "\n",
    "\n",
    "def factorial(n):\n",
    "    if n == 0:\n",
    "        return 1\n",
    "    else:\n",
    "        return n * factorial(n - 1)"
   ]
  },
  {
   "cell_type": "code",
   "execution_count": 3,
   "metadata": {
    "ExecuteTime": {
     "end_time": "2017-03-11T23:43:49.788914Z",
     "start_time": "2017-03-11T23:43:49.784405Z"
    },
    "collapsed": false,
    "deletable": true,
    "editable": true
   },
   "outputs": [
    {
     "name": "stdout",
     "output_type": "stream",
     "text": [
      "..\n"
     ]
    }
   ],
   "source": [
    "print(\"..\")"
   ]
  },
  {
   "cell_type": "code",
   "execution_count": 9,
   "metadata": {
    "ExecuteTime": {
     "end_time": "2017-03-12T00:16:59.192917Z",
     "start_time": "2017-03-12T00:16:58.968424Z"
    },
    "collapsed": false,
    "deletable": true,
    "editable": true
   },
   "outputs": [
    {
     "name": "stdout",
     "output_type": "stream",
     "text": [
      "../.jupyter/jupyter_notebook_config.py\t../.jupyter/migrated\r\n",
      "\r\n",
      "../.jupyter/custom:\r\n",
      "custom.css  custom.js\r\n",
      "\r\n",
      "../.jupyter/nbconfig:\r\n",
      "nbextensions_default.json  notebook.json\r\n"
     ]
    }
   ],
   "source": [
    "!ls ../.jupyter/*"
   ]
  },
  {
   "cell_type": "code",
   "execution_count": 1,
   "metadata": {
    "ExecuteTime": {
     "end_time": "2017-03-12T00:21:46.765890Z",
     "start_time": "2017-03-12T00:21:46.542059Z"
    },
    "collapsed": false,
    "deletable": true,
    "editable": true,
    "scrolled": true
   },
   "outputs": [
    {
     "name": "stdout",
     "output_type": "stream",
     "text": [
      "{\r\n",
      "  \"load_extensions\": {\r\n",
      "    \"table_beautifier/main\": true,\r\n",
      "    \"execute_time/ExecuteTime\": true,\r\n",
      "    \"code_prettify/autopep8\": true,\r\n",
      "    \"limit_output/main\": true,\r\n",
      "    \"ruler/main\": true,\r\n",
      "    \"toc2/main\": true,\r\n",
      "    \"code_font_size/code_font_size\": true,\r\n",
      "    \"toggle_all_line_numbers/main\": true,\r\n",
      "    \"jupyter_themes/theme_selector\": true\r\n",
      "  },\r\n",
      "  \"ruler_column\": [\r\n",
      "    \"80\",\r\n",
      "    \"74\"\r\n",
      "  ],\r\n",
      "  \"ruler_linestyle\": [\r\n",
      "    \"dashed\",\r\n",
      "    \"dashed\"\r\n",
      "  ],\r\n",
      "  \"limit_output\": \"25000\",\r\n",
      "  \"limit_display_data\": true,\r\n",
      "  \"toc2\": {\r\n",
      "    \"toc_cell\": true\r\n",
      "  },\r\n",
      "  \"ruler_color\": [\r\n",
      "    \"#ff0000\",\r\n",
      "    \"#00a808\"\r\n",
      "  ]\r\n",
      "}\r\n"
     ]
    }
   ],
   "source": [
    "!cat ../.jupyter/nbconfig/notebook.json"
   ]
  },
  {
   "cell_type": "code",
   "execution_count": null,
   "metadata": {
    "collapsed": true,
    "deletable": true,
    "editable": true
   },
   "outputs": [],
   "source": []
  },
  {
   "cell_type": "code",
   "execution_count": 2,
   "metadata": {
    "ExecuteTime": {
     "end_time": "2017-03-12T00:21:48.895061Z",
     "start_time": "2017-03-12T00:21:48.671753Z"
    },
    "collapsed": false,
    "deletable": true,
    "editable": true
   },
   "outputs": [
    {
     "name": "stdout",
     "output_type": "stream",
     "text": [
      "# Copyright (c) Jupyter Development Team.\r\n",
      "# Distributed under the terms of the Modified BSD License.\r\n",
      "\r\n",
      "from jupyter_core.paths import jupyter_data_dir\r\n",
      "import subprocess\r\n",
      "import os\r\n",
      "import errno\r\n",
      "import stat\r\n",
      "\r\n",
      "c = get_config()\r\n",
      "c.NotebookApp.ip = '*'\r\n",
      "c.NotebookApp.port = 8888\r\n",
      "c.NotebookApp.open_browser = False\r\n",
      "\r\n",
      "# Generate a self-signed certificate\r\n",
      "if 'GEN_CERT' in os.environ:\r\n",
      "    dir_name = jupyter_data_dir()\r\n",
      "    pem_file = os.path.join(dir_name, 'notebook.pem')\r\n",
      "    try:\r\n",
      "        os.makedirs(dir_name)\r\n",
      "    except OSError as exc:  # Python >2.5\r\n",
      "        if exc.errno == errno.EEXIST and os.path.isdir(dir_name):\r\n",
      "            pass\r\n",
      "        else:\r\n",
      "            raise\r\n",
      "    # Generate a certificate if one doesn't exist on disk\r\n",
      "    subprocess.check_call(['openssl', 'req', '-new',\r\n",
      "                           '-newkey', 'rsa:2048',\r\n",
      "                           '-days', '365',\r\n",
      "                           '-nodes', '-x509',\r\n",
      "                           '-subj', '/C=XX/ST=XX/L=XX/O=generated/CN=generated',\r\n",
      "                           '-keyout', pem_file,\r\n",
      "                           '-out', pem_file])\r\n",
      "    # Restrict access to the file\r\n",
      "    os.chmod(pem_file, stat.S_IRUSR | stat.S_IWUSR)\r\n",
      "    c.NotebookApp.certfile = pem_file\r\n",
      "c.NotebookApp.token=''\r\n"
     ]
    }
   ],
   "source": [
    "cat ~/.jupyter/jupyter_notebook_config.py"
   ]
  }
 ],
 "metadata": {
  "kernelspec": {
   "display_name": "Python 3",
   "language": "python",
   "name": "python3"
  },
  "language_info": {
   "codemirror_mode": {
    "name": "ipython",
    "version": 3
   },
   "file_extension": ".py",
   "mimetype": "text/x-python",
   "name": "python",
   "nbconvert_exporter": "python",
   "pygments_lexer": "ipython3",
   "version": "3.5.2"
  },
  "toc": {
   "colors": {
    "hover_highlight": "#DAA520",
    "running_highlight": "#FF0000",
    "selected_highlight": "#FFD700"
   },
   "moveMenuLeft": true,
   "nav_menu": {
    "height": "84px",
    "width": "252px"
   },
   "navigate_menu": true,
   "number_sections": true,
   "sideBar": true,
   "threshold": 4,
   "toc_cell": true,
   "toc_section_display": "block",
   "toc_window_display": false,
   "widenNotebook": false
  }
 },
 "nbformat": 4,
 "nbformat_minor": 0
}
